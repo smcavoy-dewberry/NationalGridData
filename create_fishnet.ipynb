{
 "cells": [
  {
   "cell_type": "code",
   "execution_count": null,
   "metadata": {},
   "outputs": [],
   "source": []
  },
  {
   "cell_type": "code",
   "execution_count": 7,
   "metadata": {},
   "outputs": [],
   "source": [
    "arcpy.env.workspace = r\"D:\\arcpy_working\"\n",
    "arcpy.env.overwriteOutput = True\n",
    "\n",
    "#create an empty polygon shapefile to append all of the created fishnets to\n",
    "template = \"template_fishnet.shp\"\n",
    "\n",
    "#test dataset from National Grid\n",
    "inFrame = r\"C:\\Users\\smcavoy\\Documents\\ArcGIS\\Projects\\FFRD\\FFRD.gdb\\single_square\"\n",
    "\n",
    "rows = arcpy.SearchCursor(inFrame)\n",
    "\n",
    "#set the field that we are going to use to name each individual fishnet\n",
    "shapeName = arcpy.Describe(inFrame).shapeFieldName\n",
    "\n",
    "#loop through each 1,000 by 1,000 m square from the National Grid data\n",
    "for row in rows:\n",
    "    feat = row.getValue(shapeName)\n",
    "    Name = row.OBJECTID\n",
    "    extent = feat.extent\n",
    "\n",
    "    # get the bounding coordinates for the currently selected square to use in the create fishnet parameters\n",
    "    XMAX = extent.XMax\n",
    "    XMIN = extent.XMin\n",
    "    YMAX = extent.YMax\n",
    "    YMIN = extent.YMin\n",
    "    \n",
    "    #y coordinate can't be the same as the origin; add arbitrary number to create straight line from origin\n",
    "    ycoord = YMIN+10\n",
    "\n",
    "\n",
    "    #create the fishnet for the selected square\n",
    "    fishnet = arcpy.management.CreateFishnet(f\"fishnet_{Name}\", \n",
    "                                   f\"{XMIN} {YMIN}\",\n",
    "                                   f\"{XMIN} {ycoord}\", None, None, 100, 100,\n",
    "                                   f\"{XMAX} {YMAX}\", \"NO_LABELS\", \n",
    "                                   geometry_type=\"POLYGON\")\n",
    "\n",
    "    #append the new fishnet features to the master template shapefile\n",
    "    arcpy.management.Append(fishnet, template)\n",
    "\n"
   ]
  },
  {
   "cell_type": "code",
   "execution_count": null,
   "metadata": {},
   "outputs": [],
   "source": []
  },
  {
   "cell_type": "code",
   "execution_count": null,
   "metadata": {},
   "outputs": [],
   "source": []
  }
 ],
 "metadata": {
  "kernelspec": {
   "display_name": "ArcGISPro",
   "language": "Python",
   "name": "python3"
  },
  "language_info": {
   "file_extension": ".py",
   "name": "python",
   "version": "3"
  }
 },
 "nbformat": 4,
 "nbformat_minor": 2
}
